{
 "cells": [
  {
   "cell_type": "code",
   "execution_count": 7,
   "id": "150292e0-edfc-4cf9-9b74-88b8353eca70",
   "metadata": {},
   "outputs": [
    {
     "name": "stdin",
     "output_type": "stream",
     "text": [
      "Ingresa tu nota de grado (sobre 10 puntos):  9.13\n",
      "Ingresa tu nota de examen de admisión (sobre 1000 puntos):  850\n",
      "¿Eres parte de un grupo vulnerable o perteneces al cuadro de honor? (si/no):  NO\n"
     ]
    },
    {
     "name": "stdout",
     "output_type": "stream",
     "text": [
      "Tu promedio final es: 868.90\n"
     ]
    }
   ],
   "source": [
    "def calcular_promedio(nota_grado, nota_admision, grupo_vulnerable):\n",
    "    # Convertir la nota de grado a una escala sobre 1000\n",
    "    nota_grado_1000 = (nota_grado / 10) * 1000\n",
    "    # Verificar si pertenece a un grupo vulnerable y agregar los puntos adicionales\n",
    "    if grupo_vulnerable:\n",
    "        # Calcular el promedio ponderado (70% nota de admisión y 30% nota de grado)\n",
    "        promedio = (0.7 * nota_admision) + (0.3 * nota_grado_1000) + 10\n",
    "    else:\n",
    "        promedio = (0.7 * nota_admision) + (0.3 * nota_grado_1000)\n",
    "    \n",
    "    return promedio\n",
    "\n",
    "if __name__ == \"__main__\":\n",
    "    try:\n",
    "        nota_grado = float(input(\"Ingresa tu nota de grado (sobre 10 puntos): \"))\n",
    "        nota_admision = float(input(\"Ingresa tu nota de examen de admisión (sobre 1000 puntos): \"))\n",
    "        grupo_vulnerable = input(\"¿Eres parte de un grupo vulnerable? (si/no): \").lower()\n",
    "\n",
    "        if grupo_vulnerable == \"si\":\n",
    "            grupo_vulnerable = True\n",
    "        else:\n",
    "            grupo_vulnerable = False\n",
    "\n",
    "        promedio_final = calcular_promedio(nota_grado, nota_admision, grupo_vulnerable)\n",
    "        print(\"Tu nota para postular a la universidad es: {:.2f}\".format(promedio_final))\n",
    "\n",
    "    except ValueError:\n",
    "        print(\"Error: Ingresa valores numéricos válidos para las notas.\")\n"
   ]
  }
 ],
 "metadata": {
  "kernelspec": {
   "display_name": "anaconda-2022.05-py39",
   "language": "python",
   "name": "conda-env-anaconda-2022.05-py39-py"
  },
  "language_info": {
   "codemirror_mode": {
    "name": "ipython",
    "version": 3
   },
   "file_extension": ".py",
   "mimetype": "text/x-python",
   "name": "python",
   "nbconvert_exporter": "python",
   "pygments_lexer": "ipython3",
   "version": "3.9.12"
  }
 },
 "nbformat": 4,
 "nbformat_minor": 5
}
